{
 "cells": [
  {
   "cell_type": "code",
   "execution_count": 1,
   "id": "d7ed43d7-25c1-4efd-bba3-5e0941b59ec2",
   "metadata": {},
   "outputs": [],
   "source": [
    "# It's time to play BLACKJACK"
   ]
  },
  {
   "cell_type": "code",
   "execution_count": 2,
   "id": "6190b267-b261-4f58-8a80-d006a2b1278f",
   "metadata": {},
   "outputs": [],
   "source": [
    "import random\n",
    "\n",
    "suits = ('Hearts', 'Diamonds', 'Spades', 'Clubs')\n",
    "ranks = ('Two', 'Three', 'Four', 'Five', 'Six', 'Seven', 'Eight', 'Nine', 'Ten', 'Jack', 'Queen', 'King', 'Ace')\n",
    "values = {'Two':2, 'Three':3, 'Four':4, 'Five':5, 'Six':6, 'Seven':7, 'Eight':8, 'Nine':9, 'Ten':10, 'Jack':10,\n",
    "         'Queen':10, 'King':10, 'Ace':11}\n",
    "\n",
    "playing = True"
   ]
  },
  {
   "cell_type": "code",
   "execution_count": 3,
   "id": "683c8ada-8a84-49ae-84f5-7c480f9017c4",
   "metadata": {},
   "outputs": [],
   "source": [
    "class Card:\n",
    "    def __init__(self,suit,rank):\n",
    "        self.suit = suit\n",
    "        self.rank = rank\n",
    "    def __str__(self):\n",
    "        return f'The card is the {self.rank} of {self.suit} '\n",
    "        "
   ]
  },
  {
   "cell_type": "code",
   "execution_count": 4,
   "id": "cee2fe9d-706b-4c9b-86d2-0dd760e8aec0",
   "metadata": {},
   "outputs": [],
   "source": [
    "thiscard = Card('Hearts','four')"
   ]
  },
  {
   "cell_type": "code",
   "execution_count": 5,
   "id": "71902ddb-51a4-4248-a05c-89456f697142",
   "metadata": {},
   "outputs": [
    {
     "name": "stdout",
     "output_type": "stream",
     "text": [
      "The card is the four of Hearts \n"
     ]
    }
   ],
   "source": [
    "print (thiscard)"
   ]
  },
  {
   "cell_type": "code",
   "execution_count": 6,
   "id": "03c60f42-cdbb-49ad-8cb5-42666655bf40",
   "metadata": {},
   "outputs": [],
   "source": [
    "class Deck:\n",
    "    def __init__(self):\n",
    "        self.deck = []\n",
    "        for suit in suits:\n",
    "            for rank in ranks:\n",
    "                the_card = Card(suit,rank)\n",
    "                self.deck.append(the_card)\n",
    "    def __str__(self):\n",
    "        deck_comp = ''\n",
    "        for a in self.deck:\n",
    "            deck_comp += '\\n' + a.__str__()\n",
    "        return deck_comp\n",
    "            \n",
    "        \n",
    "\n",
    "    def shuffle(self):\n",
    "        random.shuffle(self.deck)\n",
    "    def deal(self):\n",
    "       return self.deck.pop()\n",
    "    "
   ]
  },
  {
   "cell_type": "code",
   "execution_count": 7,
   "id": "eab9c5c3-43d3-4ee4-b4ef-fa1a528becf2",
   "metadata": {},
   "outputs": [
    {
     "name": "stdout",
     "output_type": "stream",
     "text": [
      "\n",
      "The card is the Three of Clubs \n",
      "The card is the Queen of Hearts \n",
      "The card is the Jack of Clubs \n",
      "The card is the Five of Diamonds \n",
      "The card is the Ten of Hearts \n",
      "The card is the Five of Hearts \n",
      "The card is the Nine of Spades \n",
      "The card is the Ace of Hearts \n",
      "The card is the Ace of Diamonds \n",
      "The card is the Five of Clubs \n",
      "The card is the Ace of Clubs \n",
      "The card is the Three of Diamonds \n",
      "The card is the Queen of Clubs \n",
      "The card is the Six of Hearts \n",
      "The card is the Seven of Hearts \n",
      "The card is the Four of Spades \n",
      "The card is the Eight of Spades \n",
      "The card is the Seven of Diamonds \n",
      "The card is the Ace of Spades \n",
      "The card is the Four of Hearts \n",
      "The card is the Two of Spades \n",
      "The card is the Queen of Spades \n",
      "The card is the Seven of Clubs \n",
      "The card is the Jack of Spades \n",
      "The card is the Three of Spades \n",
      "The card is the Nine of Clubs \n",
      "The card is the Ten of Diamonds \n",
      "The card is the Jack of Hearts \n",
      "The card is the Jack of Diamonds \n",
      "The card is the Six of Diamonds \n",
      "The card is the Six of Clubs \n",
      "The card is the Eight of Diamonds \n",
      "The card is the Ten of Clubs \n",
      "The card is the King of Clubs \n",
      "The card is the Eight of Hearts \n",
      "The card is the Two of Diamonds \n",
      "The card is the Eight of Clubs \n",
      "The card is the Four of Clubs \n",
      "The card is the Four of Diamonds \n",
      "The card is the Nine of Diamonds \n",
      "The card is the Queen of Diamonds \n",
      "The card is the King of Diamonds \n",
      "The card is the King of Spades \n",
      "The card is the Two of Hearts \n",
      "The card is the King of Hearts \n",
      "The card is the Five of Spades \n",
      "The card is the Two of Clubs \n",
      "The card is the Three of Hearts \n",
      "The card is the Nine of Hearts \n",
      "The card is the Seven of Spades \n",
      "The card is the Ten of Spades \n",
      "The card is the Six of Spades \n"
     ]
    }
   ],
   "source": [
    "mydeck = Deck()\n",
    "mydeck.shuffle()\n",
    "print (mydeck)"
   ]
  },
  {
   "cell_type": "code",
   "execution_count": 8,
   "id": "996aea93-cc1d-442b-aa8b-8c5fa02b8eed",
   "metadata": {},
   "outputs": [],
   "source": [
    "mydeck.shuffle()"
   ]
  },
  {
   "cell_type": "code",
   "execution_count": 9,
   "id": "49b91045-f942-4011-8206-afa12fcba0d4",
   "metadata": {},
   "outputs": [],
   "source": [
    "card = mydeck.deal()"
   ]
  },
  {
   "cell_type": "code",
   "execution_count": 10,
   "id": "b412a2e8-6d86-4901-a354-d1c4d11d5207",
   "metadata": {},
   "outputs": [
    {
     "name": "stdout",
     "output_type": "stream",
     "text": [
      "The card is the King of Spades \n"
     ]
    }
   ],
   "source": [
    "print (card)"
   ]
  },
  {
   "cell_type": "code",
   "execution_count": 11,
   "id": "3352c9c7-7713-4dc0-bc2e-3d9ebaf611d0",
   "metadata": {},
   "outputs": [],
   "source": [
    "class Hand:\n",
    "    def __init__(self):\n",
    "        self.cards = []\n",
    "        self.value = 0\n",
    "        self.aces = 0\n",
    "\n",
    "    def add_card(self,card):\n",
    "        self.cards.append(card)\n",
    "        self.value += values[card.rank]\n",
    "        \n",
    "        return f'The added card was {self.cards.pop()}'\n",
    "        if card.rank == 'Ace':\n",
    "            self.aces += 1\n",
    "\n",
    "    def adj_value_of_ace(self):\n",
    "        while self.value > 21 and self.aces > 0:\n",
    "            self.value -= 10\n",
    "            self.aces -= 1\n",
    "    def __str__(self):\n",
    "        pass"
   ]
  },
  {
   "cell_type": "code",
   "execution_count": 12,
   "id": "19488b1c-38ee-4704-b8a3-8dfa71f1b3ef",
   "metadata": {},
   "outputs": [
    {
     "data": {
      "text/plain": [
       "10"
      ]
     },
     "execution_count": 12,
     "metadata": {},
     "output_type": "execute_result"
    }
   ],
   "source": [
    "values[card.rank]\n"
   ]
  },
  {
   "cell_type": "code",
   "execution_count": 13,
   "id": "28c6985b-ba74-4cbc-910e-bf4c3c3cff13",
   "metadata": {},
   "outputs": [
    {
     "name": "stdout",
     "output_type": "stream",
     "text": [
      "The card is the Eight of Diamonds \n",
      "8\n"
     ]
    }
   ],
   "source": [
    "test_deck = Deck()\n",
    "test_deck.shuffle()\n",
    "\n",
    "test_player = Hand()\n",
    "dealt_card = test_deck.deal()\n",
    "print (dealt_card)\n",
    "test_player.add_card(dealt_card)\n",
    "print (test_player.value)"
   ]
  },
  {
   "cell_type": "code",
   "execution_count": 14,
   "id": "842ded23-4a42-43d6-9d4a-f2696bbdc408",
   "metadata": {},
   "outputs": [
    {
     "name": "stdout",
     "output_type": "stream",
     "text": [
      "5\n"
     ]
    }
   ],
   "source": [
    "test_deck = Deck()\n",
    "test_deck.shuffle()\n",
    "\n",
    "test_player = Hand()\n",
    "test_player.add_card(test_deck.deal())\n",
    "print (test_player.value)"
   ]
  },
  {
   "cell_type": "code",
   "execution_count": 15,
   "id": "2bc80874-e968-4693-8051-a7dd5d99fbda",
   "metadata": {},
   "outputs": [
    {
     "name": "stdout",
     "output_type": "stream",
     "text": [
      "15\n"
     ]
    }
   ],
   "source": [
    "test_player.add_card(test_deck.deal())\n",
    "print (test_player.value)"
   ]
  },
  {
   "cell_type": "code",
   "execution_count": 16,
   "id": "4bda8861-7218-409f-9832-35ff6c7493cc",
   "metadata": {},
   "outputs": [],
   "source": [
    "class Chip():\n",
    "    def __init__(self):\n",
    "        self.total = 100\n",
    "        self.bet = 0 \n",
    "    def win_bet(self):\n",
    "        self.total += self.bet\n",
    "    def lose_bet(self):\n",
    "        self.total -= self.bet"
   ]
  },
  {
   "cell_type": "code",
   "execution_count": 17,
   "id": "058ce175-35e9-4e7f-841e-39783ceb9506",
   "metadata": {},
   "outputs": [],
   "source": [
    "def take_bet(chips):\n",
    "    while True:\n",
    "        try:\n",
    "            chips.bet = int(input('How many chips would you like?'))\n",
    "        except ValueError:\n",
    "            print ('Sorry input an integer')\n",
    "        else:\n",
    "            if chips.bet > chips.total:\n",
    "                print (f'Sorry, you can not exceed {chips.total}')\n",
    "            else:\n",
    "                break"
   ]
  },
  {
   "cell_type": "code",
   "execution_count": 18,
   "id": "a50a1f30-1db9-4567-a95c-cf7160f6cf15",
   "metadata": {},
   "outputs": [],
   "source": [
    "def hit(deck,hand):\n",
    "    single_card = deck.deal()\n",
    "    hand.add_card(single_card)\n",
    "    hand.adj_value_of_ace()"
   ]
  },
  {
   "cell_type": "code",
   "execution_count": 19,
   "id": "876bfb42-4274-4c1b-9011-af6456658946",
   "metadata": {},
   "outputs": [],
   "source": [
    "def hit_or_stand(deck,hand):\n",
    "    global playing\n",
    "\n",
    "    while True:\n",
    "        x = input('Hit or Stand? Enter h or s')\n",
    "\n",
    "        if x[0].lower() == 'h':\n",
    "            hit(deck,hand)\n",
    "        elif x[0].lower() == 's':\n",
    "            print (\"Player stands Dealer's Turn\")\n",
    "            playing = False\n",
    "\n",
    "        else:\n",
    "            print ('Sorry Please input h or s only!')\n",
    "            continue\n",
    "        break"
   ]
  },
  {
   "cell_type": "code",
   "execution_count": 20,
   "id": "0c2e8e4f-ab2a-4097-8973-f09b5b01965c",
   "metadata": {},
   "outputs": [],
   "source": [
    "items = [1,2,3,4]"
   ]
  },
  {
   "cell_type": "code",
   "execution_count": 21,
   "id": "c71f04f3-4c40-476a-8680-4712ad182670",
   "metadata": {},
   "outputs": [
    {
     "name": "stdout",
     "output_type": "stream",
     "text": [
      "The items are\n",
      "1\n",
      "2\n",
      "3\n",
      "4\n"
     ]
    }
   ],
   "source": [
    "print ('The items are',*items, sep = '\\n' )"
   ]
  },
  {
   "cell_type": "code",
   "execution_count": 25,
   "id": "cd5c9692-9089-4d7a-a49c-97f655401987",
   "metadata": {},
   "outputs": [],
   "source": [
    "def show_some(player,dealer):\n",
    "    print(\"\\n Dealer's Hand:\")\n",
    "    print ('<First Card Hidden>')\n",
    "    #print (dealer.cards[1])\n",
    "    print(\"\\n Player's Hand:\")\n",
    "    for a in player.cards:\n",
    "        print(a)\n",
    "\n",
    "def show_all(player,dealer):\n",
    "    \n",
    "    print(\"\\n Dealers Hand:\")\n",
    "    for a in dealer.cards:\n",
    "        print(a)\n",
    "    print (f\"Value of Dealer's hand is:  {dealer.value}\")\n",
    "    \n",
    "    print(\"\\n Player's Hand:\")\n",
    "    for a in player.cards:\n",
    "        print(a)\n",
    "    print (f\"Value of Player's hand is:  {player.value}\")"
   ]
  },
  {
   "cell_type": "code",
   "execution_count": 23,
   "id": "e39c0d4a-53bb-484b-8261-f8d13e6e911f",
   "metadata": {},
   "outputs": [],
   "source": [
    "def player_bursts(player, dealer, chips):\n",
    "    print ('BUST PLAYER\\nDealer WINS!!')\n",
    "    chips.lose_bet()\n",
    "def player_wins(player, dealer, chips):\n",
    "    print('Player wins ')\n",
    "    chips.win_bet()\n",
    "def dealer_busts(player, dealer, chips):\n",
    "    print('Player Wins and Dealer BUSTS')\n",
    "    chips.win_bet()\n",
    "def dealer_wins(player, dealer, chips):\n",
    "    print('Dealer Wins')\n",
    "    chips.lose_bet\n",
    "def push(player, dealer):\n",
    "    print('Dealer and Player tie! PUSH')"
   ]
  },
  {
   "cell_type": "code",
   "execution_count": null,
   "id": "b60b3765-be58-4948-be6a-ec328ec073de",
   "metadata": {},
   "outputs": [],
   "source": []
  },
  {
   "cell_type": "code",
   "execution_count": 24,
   "id": "010d6f8f-42d6-4b19-816e-aef4147551d1",
   "metadata": {},
   "outputs": [
    {
     "name": "stdout",
     "output_type": "stream",
     "text": [
      "Welcome to BlackJack\n",
      "\n",
      " Dealer's Hand:\n",
      "<First Card Hidden>\n",
      "\n",
      " Player's Hand:\n",
      "\n",
      " Dealer's Hand:\n",
      "<First Card Hidden>\n",
      "\n",
      " Player's Hand:\n",
      "\n",
      " Dealer's Hand:\n",
      "<First Card Hidden>\n",
      "\n",
      " Player's Hand:\n",
      "Player stands Dealer's Turn\n",
      "\n",
      " Dealer's Hand:\n",
      "<First Card Hidden>\n",
      "\n",
      " Player's Hand:\n",
      "BUST PLAYER\n",
      "Dealer WINS!!\n"
     ]
    }
   ],
   "source": [
    "#END GAME CODE\n",
    "while True:\n",
    "    print ('Welcome to BlackJack')\n",
    "    deck = Deck()\n",
    "    deck.shuffle()\n",
    "\n",
    "    player_hand = Hand()\n",
    "    player_hand.add_card(deck.deal())\n",
    "    player_hand.add_card(deck.deal())\n",
    "\n",
    "    dealer_hand = Hand()\n",
    "    dealer_hand.add_card(deck.deal())\n",
    "    dealer_hand.add_card(deck.deal())\n",
    "\n",
    "    player_chips = Chip()\n",
    "\n",
    "    take_bet(player_chips)\n",
    "\n",
    "    show_some(player_hand,dealer_hand)\n",
    "\n",
    "    while playing:\n",
    "        hit_or_stand(deck,player_hand)\n",
    "\n",
    "        show_some(player_hand,dealer_hand)\n",
    "    \n",
    "\n",
    "    if player_hand.value > 21:\n",
    "        player_bursts(player_hand,dealer_hand,player_chips)\n",
    "        break\n",
    "        \n",
    "    if player_hand.value <= 21:\n",
    "        while dealer_hand.value < 17:\n",
    "            hit(deck,dealer_hand)\n",
    "        show_all(player_hand,dealer_hand)\n",
    "\n",
    "        if dealer_hand.value > 21:\n",
    "            dealer_busts(player_hand,dealer_hand,player_chips)\n",
    "        elif dealer_hand.value > player_hand.value:\n",
    "            dealer_wins(player_hand,dealer_hand,player_chips)\n",
    "        elif dealer_hand.value < player_hand.value:\n",
    "            player_wins(player_hand,dealer_hand,player_chips)\n",
    "        else:\n",
    "            push(player_hand,dealer_hand)\n",
    "\n",
    "    print(f\"\\n Player's total chips are at {player_chips.total}\")\n",
    "    \n",
    "    new_game = input('Do you still wish to play? y or n')\n",
    "    if new_game[0].lower() == 'y':\n",
    "        playing = True\n",
    "        continue\n",
    "    else:\n",
    "        print (\"You've come to the end of BlackJack!\")\n",
    "\n",
    "\n",
    "\n",
    "\n",
    "\n",
    "\n",
    "        break\n",
    "        "
   ]
  }
 ],
 "metadata": {
  "kernelspec": {
   "display_name": "Python 3 (ipykernel)",
   "language": "python",
   "name": "python3"
  },
  "language_info": {
   "codemirror_mode": {
    "name": "ipython",
    "version": 3
   },
   "file_extension": ".py",
   "mimetype": "text/x-python",
   "name": "python",
   "nbconvert_exporter": "python",
   "pygments_lexer": "ipython3",
   "version": "3.12.4"
  }
 },
 "nbformat": 4,
 "nbformat_minor": 5
}
